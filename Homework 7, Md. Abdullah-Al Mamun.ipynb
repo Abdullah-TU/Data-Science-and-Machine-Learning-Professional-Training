{
 "cells": [
  {
   "attachments": {
    "image.png": {
     "image/png": "[encoded data removed]"
    }
   },
   "cell_type": "markdown",
   "id": "9e4bd0d9",
   "metadata": {},
   "source": [
    "# Homework 7\n",
    "## Md. Abdullah-Al Mamun\n",
    "\n",
    "# 1. Data Exploration\n",
    "![image.png](attachment:image.png)\n",
    "\n"
   ]
  },
  {
   "cell_type": "code",
   "execution_count": 1,
   "id": "bda531f2",
   "metadata": {},
   "outputs": [
    {
     "data": {
      "text/html": [
       "<div>\n",
       "<style scoped>\n",
       "    .dataframe tbody tr th:only-of-type {\n",
       "        vertical-align: middle;\n",
       "    }\n",
       "\n",
       "    .dataframe tbody tr th {\n",
       "        vertical-align: top;\n",
       "    }\n",
       "\n",
       "    .dataframe thead th {\n",
       "        text-align: right;\n",
       "    }\n",
       "</style>\n",
       "<table border=\"1\" class=\"dataframe\">\n",
       "  <thead>\n",
       "    <tr style=\"text-align: right;\">\n",
       "      <th></th>\n",
       "      <th>S1</th>\n",
       "      <th>S2</th>\n",
       "      <th>S3</th>\n",
       "    </tr>\n",
       "  </thead>\n",
       "  <tbody>\n",
       "    <tr>\n",
       "      <th>0</th>\n",
       "      <td>419</td>\n",
       "      <td>362</td>\n",
       "      <td>373</td>\n",
       "    </tr>\n",
       "    <tr>\n",
       "      <th>1</th>\n",
       "      <td>432</td>\n",
       "      <td>364</td>\n",
       "      <td>392</td>\n",
       "    </tr>\n",
       "    <tr>\n",
       "      <th>2</th>\n",
       "      <td>429</td>\n",
       "      <td>370</td>\n",
       "      <td>379</td>\n",
       "    </tr>\n",
       "    <tr>\n",
       "      <th>3</th>\n",
       "      <td>424</td>\n",
       "      <td>362</td>\n",
       "      <td>385</td>\n",
       "    </tr>\n",
       "    <tr>\n",
       "      <th>4</th>\n",
       "      <td>433</td>\n",
       "      <td>372</td>\n",
       "      <td>383</td>\n",
       "    </tr>\n",
       "    <tr>\n",
       "      <th>...</th>\n",
       "      <td>...</td>\n",
       "      <td>...</td>\n",
       "      <td>...</td>\n",
       "    </tr>\n",
       "    <tr>\n",
       "      <th>133</th>\n",
       "      <td>446</td>\n",
       "      <td>355</td>\n",
       "      <td>349</td>\n",
       "    </tr>\n",
       "    <tr>\n",
       "      <th>134</th>\n",
       "      <td>432</td>\n",
       "      <td>367</td>\n",
       "      <td>383</td>\n",
       "    </tr>\n",
       "    <tr>\n",
       "      <th>135</th>\n",
       "      <td>430</td>\n",
       "      <td>353</td>\n",
       "      <td>355</td>\n",
       "    </tr>\n",
       "    <tr>\n",
       "      <th>136</th>\n",
       "      <td>437</td>\n",
       "      <td>362</td>\n",
       "      <td>386</td>\n",
       "    </tr>\n",
       "    <tr>\n",
       "      <th>137</th>\n",
       "      <td>437</td>\n",
       "      <td>367</td>\n",
       "      <td>381</td>\n",
       "    </tr>\n",
       "  </tbody>\n",
       "</table>\n",
       "<p>138 rows × 3 columns</p>\n",
       "</div>"
      ],
      "text/plain": [
       "      S1   S2   S3\n",
       "0    419  362  373\n",
       "1    432  364  392\n",
       "2    429  370  379\n",
       "3    424  362  385\n",
       "4    433  372  383\n",
       "..   ...  ...  ...\n",
       "133  446  355  349\n",
       "134  432  367  383\n",
       "135  430  353  355\n",
       "136  437  362  386\n",
       "137  437  367  381\n",
       "\n",
       "[138 rows x 3 columns]"
      ]
     },
     "execution_count": 1,
     "metadata": {},
     "output_type": "execute_result"
    }
   ],
   "source": [
    "import pandas as pd\n",
    "\n",
    "data = pd.read_excel('Group3.xlsx')\n",
    "\n",
    "data"
   ]
  },
  {
   "cell_type": "code",
   "execution_count": 2,
   "id": "34f50301",
   "metadata": {},
   "outputs": [
    {
     "data": {
      "text/html": [
       "<div>\n",
       "<style scoped>\n",
       "    .dataframe tbody tr th:only-of-type {\n",
       "        vertical-align: middle;\n",
       "    }\n",
       "\n",
       "    .dataframe tbody tr th {\n",
       "        vertical-align: top;\n",
       "    }\n",
       "\n",
       "    .dataframe thead th {\n",
       "        text-align: right;\n",
       "    }\n",
       "</style>\n",
       "<table border=\"1\" class=\"dataframe\">\n",
       "  <thead>\n",
       "    <tr style=\"text-align: right;\">\n",
       "      <th></th>\n",
       "      <th>S1</th>\n",
       "      <th>S2</th>\n",
       "      <th>S3</th>\n",
       "    </tr>\n",
       "  </thead>\n",
       "  <tbody>\n",
       "    <tr>\n",
       "      <th>count</th>\n",
       "      <td>138.000000</td>\n",
       "      <td>138.000000</td>\n",
       "      <td>138.000000</td>\n",
       "    </tr>\n",
       "    <tr>\n",
       "      <th>mean</th>\n",
       "      <td>435.028986</td>\n",
       "      <td>360.217391</td>\n",
       "      <td>366.934783</td>\n",
       "    </tr>\n",
       "    <tr>\n",
       "      <th>std</th>\n",
       "      <td>10.252963</td>\n",
       "      <td>9.174496</td>\n",
       "      <td>25.509468</td>\n",
       "    </tr>\n",
       "    <tr>\n",
       "      <th>min</th>\n",
       "      <td>409.000000</td>\n",
       "      <td>315.000000</td>\n",
       "      <td>289.000000</td>\n",
       "    </tr>\n",
       "    <tr>\n",
       "      <th>25%</th>\n",
       "      <td>428.250000</td>\n",
       "      <td>356.250000</td>\n",
       "      <td>355.000000</td>\n",
       "    </tr>\n",
       "    <tr>\n",
       "      <th>50%</th>\n",
       "      <td>434.000000</td>\n",
       "      <td>362.000000</td>\n",
       "      <td>376.000000</td>\n",
       "    </tr>\n",
       "    <tr>\n",
       "      <th>75%</th>\n",
       "      <td>442.000000</td>\n",
       "      <td>365.000000</td>\n",
       "      <td>384.750000</td>\n",
       "    </tr>\n",
       "    <tr>\n",
       "      <th>max</th>\n",
       "      <td>466.000000</td>\n",
       "      <td>380.000000</td>\n",
       "      <td>400.000000</td>\n",
       "    </tr>\n",
       "  </tbody>\n",
       "</table>\n",
       "</div>"
      ],
      "text/plain": [
       "               S1          S2          S3\n",
       "count  138.000000  138.000000  138.000000\n",
       "mean   435.028986  360.217391  366.934783\n",
       "std     10.252963    9.174496   25.509468\n",
       "min    409.000000  315.000000  289.000000\n",
       "25%    428.250000  356.250000  355.000000\n",
       "50%    434.000000  362.000000  376.000000\n",
       "75%    442.000000  365.000000  384.750000\n",
       "max    466.000000  380.000000  400.000000"
      ]
     },
     "execution_count": 2,
     "metadata": {},
     "output_type": "execute_result"
    }
   ],
   "source": [
    "data.describe()"
   ]
  },
  {
   "cell_type": "code",
   "execution_count": 3,
   "id": "87bc10bb",
   "metadata": {},
   "outputs": [
    {
     "data": {
      "text/plain": [
       "(138, 3)"
      ]
     },
     "execution_count": 3,
     "metadata": {},
     "output_type": "execute_result"
    }
   ],
   "source": [
    "data.shape"
   ]
  },
  {
   "cell_type": "markdown",
   "id": "54aafd65",
   "metadata": {},
   "source": [
    "## Types of variables (categorical or numerical)"
   ]
  },
  {
   "cell_type": "code",
   "execution_count": 4,
   "id": "f73cc2d5",
   "metadata": {},
   "outputs": [
    {
     "name": "stdout",
     "output_type": "stream",
     "text": [
      "<class 'pandas.core.frame.DataFrame'>\n",
      "RangeIndex: 138 entries, 0 to 137\n",
      "Data columns (total 3 columns):\n",
      " #   Column  Non-Null Count  Dtype\n",
      "---  ------  --------------  -----\n",
      " 0   S1      138 non-null    int64\n",
      " 1   S2      138 non-null    int64\n",
      " 2   S3      138 non-null    int64\n",
      "dtypes: int64(3)\n",
      "memory usage: 3.4 KB\n"
     ]
    }
   ],
   "source": [
    "data.info()"
   ]
  },
  {
   "cell_type": "markdown",
   "id": "14960f5e",
   "metadata": {},
   "source": [
    "####  The data types of S1, S2 and S3 are int64.\n",
    "####   therefore, we can conclude that these variables are numerical data.\n",
    "#### And there are no missing values in  all three."
   ]
  },
  {
   "cell_type": "markdown",
   "id": "a57b2657",
   "metadata": {},
   "source": [
    "## Statistics (min, mean, max, and std)"
   ]
  },
  {
   "cell_type": "code",
   "execution_count": 5,
   "id": "b17c3073",
   "metadata": {},
   "outputs": [
    {
     "name": "stdout",
     "output_type": "stream",
     "text": [
      "Mean of our data: S1    435.028986\n",
      "S2    360.217391\n",
      "S3    366.934783\n",
      "dtype: float64\n"
     ]
    }
   ],
   "source": [
    "Mean = data.mean()\n",
    "print(\"Mean of our data:\", Mean)"
   ]
  },
  {
   "cell_type": "code",
   "execution_count": 6,
   "id": "2a363b51",
   "metadata": {},
   "outputs": [
    {
     "name": "stdout",
     "output_type": "stream",
     "text": [
      "Median of our data:\n",
      "S1    434.0\n",
      "S2    362.0\n",
      "S3    376.0\n",
      "dtype: float64\n"
     ]
    }
   ],
   "source": [
    "Median = data.median()\n",
    "print(\"Median of our data:\")\n",
    "print(Median)"
   ]
  },
  {
   "cell_type": "code",
   "execution_count": 7,
   "id": "c5f46fad",
   "metadata": {},
   "outputs": [
    {
     "name": "stdout",
     "output_type": "stream",
     "text": [
      "Mode of our data:\n",
      "    S1   S2   S3\n",
      "0  429  362  379\n"
     ]
    }
   ],
   "source": [
    "Mode = data.mode()\n",
    "print(\"Mode of our data:\")\n",
    "print(Mode)"
   ]
  },
  {
   "cell_type": "markdown",
   "id": "6b15f823",
   "metadata": {},
   "source": [
    "### ○\tCompute the spread measures\n"
   ]
  },
  {
   "cell_type": "code",
   "execution_count": 8,
   "id": "6a692b63",
   "metadata": {},
   "outputs": [
    {
     "name": "stdout",
     "output_type": "stream",
     "text": [
      "Range of our dataset:\n",
      "S1     57\n",
      "S2     65\n",
      "S3    111\n",
      "dtype: int64\n"
     ]
    }
   ],
   "source": [
    "Range = data.max()- data.min()\n",
    "print(\"Range of our dataset:\")\n",
    "print(Range)"
   ]
  },
  {
   "cell_type": "code",
   "execution_count": 9,
   "id": "a3a4dcde",
   "metadata": {},
   "outputs": [
    {
     "name": "stdout",
     "output_type": "stream",
     "text": [
      "Variance of our dataset:\n",
      "S1    105.123241\n",
      "S2     84.171374\n",
      "S3    650.732942\n",
      "dtype: float64\n"
     ]
    }
   ],
   "source": [
    "Variance = data.var()\n",
    "print(\"Variance of our dataset:\")\n",
    "print(Variance)"
   ]
  },
  {
   "cell_type": "code",
   "execution_count": 10,
   "id": "75328c74",
   "metadata": {},
   "outputs": [
    {
     "name": "stdout",
     "output_type": "stream",
     "text": [
      "Standard Deviation of our dataset:\n",
      "S1    10.252963\n",
      "S2     9.174496\n",
      "S3    25.509468\n",
      "dtype: float64\n"
     ]
    }
   ],
   "source": [
    "std = data.std()\n",
    "print(\"Standard Deviation of our dataset:\")\n",
    "print(std)"
   ]
  },
  {
   "cell_type": "markdown",
   "id": "273db39b",
   "metadata": {},
   "source": [
    "### Errors (if any)\n",
    "### Outliers (BE CAREFUL)"
   ]
  },
  {
   "cell_type": "code",
   "execution_count": 11,
   "id": "370e9afb",
   "metadata": {},
   "outputs": [
    {
     "data": {
      "image/png": "[encoded data removed]",
      "text/plain": [
       "<Figure size 1000x600 with 1 Axes>"
      ]
     },
     "metadata": {},
     "output_type": "display_data"
    }
   ],
   "source": [
    "import pandas as pd\n",
    "import matplotlib.pyplot as plt\n",
    "\n",
    "\n",
    "\n",
    "# Calculate the mean and standard deviation of each column\n",
    "mean = data.mean()\n",
    "std = data.std()\n",
    "\n",
    "# Calculate the lower and upper bounds for outliers\n",
    "lower_bound = mean - 2 * std\n",
    "upper_bound = mean + 2 * std\n",
    "\n",
    "# Find the outliers for each column\n",
    "outliers = pd.DataFrame()\n",
    "for column in data.columns:\n",
    "    outliers[column] = data[(data[column] < lower_bound[column]) | (data[column] > upper_bound[column])][column]\n",
    "\n",
    "\n",
    "# Find any errors in the outliers set\n",
    "errors = pd.DataFrame()\n",
    "for column in outliers.columns:\n",
    "    errors[column] = outliers[(outliers[column] < data[column].min()) | (outliers[column] > data[column].max())][column]\n",
    "    \n",
    "    \n",
    "# Plot the data\n",
    "plt.figure(figsize=(10, 6))\n",
    "bp = plt.boxplot(data.values, showfliers=True)\n",
    "plt.title('Boxplot of S1, S2, and S3')\n",
    "plt.xticks([1, 2, 3], ['S1', 'S2', 'S3'])\n",
    "plt.ylabel('Values')\n",
    "\n",
    "# Add red dot to indicate any errors\n",
    "for column in errors.columns:\n",
    "    for value in errors[column]:\n",
    "        index = data.index[data[column] == value][0]\n",
    "        plt.plot(data.columns.get_loc(column) + 1, value, 'ro')\n",
    "\n",
    "plt.show()\n"
   ]
  },
  {
   "cell_type": "markdown",
   "id": "5d16ec6c",
   "metadata": {},
   "source": [
    "### Are there any errors included in the outlier set?"
   ]
  },
  {
   "cell_type": "markdown",
   "id": "e8912c4d",
   "metadata": {},
   "source": [
    "### There is no errors included in the outlier set. "
   ]
  },
  {
   "cell_type": "code",
   "execution_count": 12,
   "id": "7644d7a7",
   "metadata": {},
   "outputs": [
    {
     "data": {
      "image/png": "[encoded data removed]",
      "text/plain": [
       "<Figure size 640x480 with 1 Axes>"
      ]
     },
     "metadata": {},
     "output_type": "display_data"
    }
   ],
   "source": [
    "import matplotlib.pyplot as plt\n",
    "import numpy as np\n",
    "\n",
    "# Generate example data\n",
    "data = [-50, 1, 2, 3, 4, 5, 6, 7, 8, 9, 10, 20, 30, 40, 50, 120, 180, 350]\n",
    "\n",
    "# Calculate outliers and errors\n",
    "quartile_1, quartile_3 = np.percentile(data, [25, 75])\n",
    "iqr = quartile_3 - quartile_1\n",
    "lower_bound = quartile_1 - (iqr * 1.5)\n",
    "upper_bound = quartile_3 + (iqr * 1.5)\n",
    "outliers = [x for x in data if x < lower_bound or x > upper_bound]\n",
    "errors = [x for x in data if x < 1 or x > 190]\n",
    "\n",
    "# Create plot\n",
    "fig, ax = plt.subplots()\n",
    "ax.boxplot(data)\n",
    "ax.set_xticklabels(['Data'])\n",
    "\n",
    "# Plot the outliers and bounds\n",
    "if outliers:\n",
    "    ax.plot([1] * len(outliers), outliers, 'ko', label='Outliers')\n",
    "ax.plot([0.5, 1.5], [lower_bound, lower_bound], 'r--')\n",
    "ax.plot([0.5, 1.5], [upper_bound, upper_bound], 'r--')\n",
    "\n",
    "# Plot the errors if there are any\n",
    "if errors:\n",
    "    ax.plot([1] * len(errors), errors, 'ro', label='Errors')\n",
    "\n",
    "ax.set_ylabel('Values')\n",
    "ax.legend()\n",
    "plt.show()\n"
   ]
  },
  {
   "cell_type": "markdown",
   "id": "2dea2094",
   "metadata": {},
   "source": [
    "# Normality test korte hobe, missing values ba other type of value thakle  jemon binary"
   ]
  },
  {
   "cell_type": "code",
   "execution_count": null,
   "id": "c7835935",
   "metadata": {},
   "outputs": [],
   "source": []
  },
  {
   "cell_type": "code",
   "execution_count": null,
   "id": "84a8daa3",
   "metadata": {},
   "outputs": [],
   "source": []
  },
  {
   "cell_type": "code",
   "execution_count": null,
   "id": "2b8a2a9f",
   "metadata": {},
   "outputs": [],
   "source": []
  },
  {
   "cell_type": "markdown",
   "id": "d6783c7f",
   "metadata": {},
   "source": [
    "# Data Labeling\n",
    "\n",
    "## 2. Suppose we have a twitter dataset we want to label it into two classes Radical or No-Radical the data are available in the repository Twitter Datasets."
   ]
  },
  {
   "cell_type": "code",
   "execution_count": 13,
   "id": "ca2941ab",
   "metadata": {},
   "outputs": [
    {
     "data": {
      "text/html": [
       "<div>\n",
       "<style scoped>\n",
       "    .dataframe tbody tr th:only-of-type {\n",
       "        vertical-align: middle;\n",
       "    }\n",
       "\n",
       "    .dataframe tbody tr th {\n",
       "        vertical-align: top;\n",
       "    }\n",
       "\n",
       "    .dataframe thead th {\n",
       "        text-align: right;\n",
       "    }\n",
       "</style>\n",
       "<table border=\"1\" class=\"dataframe\">\n",
       "  <thead>\n",
       "    <tr style=\"text-align: right;\">\n",
       "      <th></th>\n",
       "      <th>Unnamed: 0</th>\n",
       "      <th>tweets</th>\n",
       "      <th>labels</th>\n",
       "    </tr>\n",
       "  </thead>\n",
       "  <tbody>\n",
       "    <tr>\n",
       "      <th>0</th>\n",
       "      <td>9920</td>\n",
       "      <td>criminal murderer muslim ummah righteous amp r...</td>\n",
       "      <td>NaN</td>\n",
       "    </tr>\n",
       "    <tr>\n",
       "      <th>1</th>\n",
       "      <td>9921</td>\n",
       "      <td>russian jet spotted west kweires airbase alepp...</td>\n",
       "      <td>NaN</td>\n",
       "    </tr>\n",
       "    <tr>\n",
       "      <th>2</th>\n",
       "      <td>9922</td>\n",
       "      <td>isis claims responsibility ied attack west alg...</td>\n",
       "      <td>NaN</td>\n",
       "    </tr>\n",
       "    <tr>\n",
       "      <th>3</th>\n",
       "      <td>9923</td>\n",
       "      <td>rt truthdig drone president rhetoric versus at...</td>\n",
       "      <td>NaN</td>\n",
       "    </tr>\n",
       "    <tr>\n",
       "      <th>4</th>\n",
       "      <td>9924</td>\n",
       "      <td>least rebels killed north aleppo kurdish force...</td>\n",
       "      <td>NaN</td>\n",
       "    </tr>\n",
       "    <tr>\n",
       "      <th>...</th>\n",
       "      <td>...</td>\n",
       "      <td>...</td>\n",
       "      <td>...</td>\n",
       "    </tr>\n",
       "    <tr>\n",
       "      <th>3301</th>\n",
       "      <td>13221</td>\n",
       "      <td>witness muslim phir koi lakhoo mai aik hoga</td>\n",
       "      <td>NaN</td>\n",
       "    </tr>\n",
       "    <tr>\n",
       "      <th>3302</th>\n",
       "      <td>13222</td>\n",
       "      <td>rt didyouknowvs coming next ahmet vs didyoukno...</td>\n",
       "      <td>NaN</td>\n",
       "    </tr>\n",
       "    <tr>\n",
       "      <th>3303</th>\n",
       "      <td>13223</td>\n",
       "      <td>rt conflicts map saa makes advances isis palmy...</td>\n",
       "      <td>NaN</td>\n",
       "    </tr>\n",
       "    <tr>\n",
       "      <th>3304</th>\n",
       "      <td>13224</td>\n",
       "      <td>undoubtedly true hypocrite afg taliban always ...</td>\n",
       "      <td>NaN</td>\n",
       "    </tr>\n",
       "    <tr>\n",
       "      <th>3305</th>\n",
       "      <td>13225</td>\n",
       "      <td>rt think decades years west stomach long wars ...</td>\n",
       "      <td>NaN</td>\n",
       "    </tr>\n",
       "  </tbody>\n",
       "</table>\n",
       "<p>3306 rows × 3 columns</p>\n",
       "</div>"
      ],
      "text/plain": [
       "      Unnamed: 0                                             tweets  labels\n",
       "0           9920  criminal murderer muslim ummah righteous amp r...     NaN\n",
       "1           9921  russian jet spotted west kweires airbase alepp...     NaN\n",
       "2           9922  isis claims responsibility ied attack west alg...     NaN\n",
       "3           9923  rt truthdig drone president rhetoric versus at...     NaN\n",
       "4           9924  least rebels killed north aleppo kurdish force...     NaN\n",
       "...          ...                                                ...     ...\n",
       "3301       13221        witness muslim phir koi lakhoo mai aik hoga     NaN\n",
       "3302       13222  rt didyouknowvs coming next ahmet vs didyoukno...     NaN\n",
       "3303       13223  rt conflicts map saa makes advances isis palmy...     NaN\n",
       "3304       13224  undoubtedly true hypocrite afg taliban always ...     NaN\n",
       "3305       13225  rt think decades years west stomach long wars ...     NaN\n",
       "\n",
       "[3306 rows x 3 columns]"
      ]
     },
     "execution_count": 13,
     "metadata": {},
     "output_type": "execute_result"
    }
   ],
   "source": [
    "import pandas as pd\n",
    "\n",
    "# Load the data\n",
    "df = pd.read_csv('Twitter Group3.csv')\n",
    "\n",
    "df"
   ]
  },
  {
   "cell_type": "code",
   "execution_count": null,
   "id": "7f097ab8",
   "metadata": {},
   "outputs": [],
   "source": []
  }
 ],
 "metadata": {
  "kernelspec": {
   "display_name": "Python 3 (ipykernel)",
   "language": "python",
   "name": "python3"
  },
  "language_info": {
   "codemirror_mode": {
    "name": "ipython",
    "version": 3
   },
   "file_extension": ".py",
   "mimetype": "text/x-python",
   "name": "python",
   "nbconvert_exporter": "python",
   "pygments_lexer": "ipython3",
   "version": "3.10.9"
  }
 },
 "nbformat": 4,
 "nbformat_minor": 5
}
